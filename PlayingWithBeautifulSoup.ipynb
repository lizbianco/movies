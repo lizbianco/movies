{
 "cells": [
  {
   "cell_type": "code",
   "execution_count": 384,
   "metadata": {
    "collapsed": true
   },
   "outputs": [],
   "source": [
    "import requests\n",
    "from bs4 import BeautifulSoup\n",
    "import re\n",
    "import dateutil.parser\n",
    "from pprint import pprint\n",
    "import re\n",
    "from selenium import webdriver\n",
    "from selenium.webdriver.common.keys import Keys\n",
    "import time\n",
    "from selenium.common.exceptions import NoSuchElementException"
   ]
  },
  {
   "cell_type": "code",
   "execution_count": 422,
   "metadata": {
    "collapsed": true
   },
   "outputs": [],
   "source": [
    "url1 = 'http://www.boxofficemojo.com/movies/?id=atlasshruggedpart2.htm'\n",
    "url2 = 'http://www.boxofficemojo.com/movies/?id=starwars4.htm'\n",
    "url = url1\n",
    "response = requests.get(url)\n",
    "page = response.text\n",
    "soup = BeautifulSoup(page, 'lxml')\n",
    "driver = webdriver.PhantomJS()"
   ]
  },
  {
   "cell_type": "code",
   "execution_count": 423,
   "metadata": {
    "collapsed": false
   },
   "outputs": [],
   "source": [
    "#Tried and True Functions\n",
    "def get_movie_value(soup, field_name):\n",
    "    obj = soup.find(text=re.compile(field_name))\n",
    "    if not obj:\n",
    "        return None\n",
    "    next_sibling = obj.findNextSibling()\n",
    "    if next_sibling:\n",
    "        return next_sibling.text\n",
    "    else:\n",
    "        return None\n",
    "    \n",
    "def get_dlg (string):\n",
    "    try:\n",
    "        obj = str(soup.find(text=re.compile('Domestic Lifetime Gross:')))\n",
    "        obj = obj.split(':')\n",
    "        obj = int(obj[1].replace('$','').replace(',',''))\n",
    "        return obj\n",
    "    except IndexError:\n",
    "        return None\n",
    "\n",
    "   \n",
    "def get_the_players(soup, field_name):\n",
    "    obj = soup.find(text = field_name)\n",
    "    if not obj:\n",
    "        return None\n",
    "    elif field_name == 'Actors:':\n",
    "        return obj.parent.parent.findNext('td')\n",
    "    else:\n",
    "        return obj.parent.parent.findNext('td').text\n",
    "    \n",
    "def get_adjusted(field_name):\n",
    "    driver.get(url)\n",
    "    inf_adjust_2016_selector = '//select[@name=\"ticketyr\"]/option[@value=\"2016\"]'\n",
    "    driver.find_element_by_xpath(inf_adjust_2016_selector).click()\n",
    "    go_button = driver.find_element_by_name(\"Go\")\n",
    "    go_button.click()\n",
    "    if field_name == \"DTotalAG\":\n",
    "        gross_selector = '//font[contains(text(), \"Domestic Total\")]/b'\n",
    "        return driver.find_element_by_xpath(gross_selector).text\n",
    "    elif field_name == \"DLifetimeAG\":\n",
    "        try:\n",
    "            gross_selector = '//b[contains(text(), \"Domestic Lifetime Adj. Gross\")]'\n",
    "            item = driver.find_element_by_xpath(gross_selector).text\n",
    "            items = item.split(':')\n",
    "            return(items[1])\n",
    "        except NoSuchElementException:\n",
    "            return None\n",
    "    \n",
    "#Formatting Functions    \n",
    "def to_date(datestring):\n",
    "    date = dateutil.parser.parse(datestring)\n",
    "    return date\n",
    "\n",
    "def money_to_int(moneystring):\n",
    "    moneystring = moneystring.replace('$','').replace(',','')\n",
    "    return int(moneystring)\n",
    "\n",
    "def runtime_to_minutes(runtimestring):\n",
    "    runtime = runtimestring.split()\n",
    "    try:\n",
    "        minutes = int(runtime[0])*60 + int(runtime[2])\n",
    "        return minutes\n",
    "    except:\n",
    "        return None\n",
    "\n",
    "def budget_to_int(budgetstring):\n",
    "    if budgetstring == 'N/A':\n",
    "        return None\n",
    "    else:\n",
    "        budgetstring = budgetstring.replace('$','').replace(' million','')\n",
    "        budget = int(budgetstring)*1000000\n",
    "        return budget\n",
    "\n",
    "def create_list(actors):\n",
    "    if not actors:\n",
    "        return None\n",
    "    else:\n",
    "        actor_list = []\n",
    "        actors = str(actors)\n",
    "        actors = actors.split('<br/>')\n",
    "        for i in actors:\n",
    "            i = re.sub('<.+?>', '', i)\n",
    "            actor_list.append(i)\n",
    "        return actor_list\n",
    "    "
   ]
  },
  {
   "cell_type": "code",
   "execution_count": 424,
   "metadata": {
    "collapsed": false
   },
   "outputs": [
    {
     "name": "stdout",
     "output_type": "stream",
     "text": [
      "[{'actors': None,\n",
      "  'budget': None,\n",
      "  'composer': None,\n",
      "  'director': None,\n",
      "  'domestic lifetime': None,\n",
      "  'domestic lifetime adj gross(2016)': None,\n",
      "  'domestic total adj gross(2016)': 3605400,\n",
      "  'domestic total gross': 3336053,\n",
      "  'genre': 'Drama',\n",
      "  'movie title': 'Atlas Shrugged: Part II',\n",
      "  'producer': None,\n",
      "  'rating': 'PG-13',\n",
      "  'release date': datetime.datetime(2012, 10, 12, 0, 0),\n",
      "  'runtime (mins)': 112,\n",
      "  'series': 'Atlas Shrugged Franchise',\n",
      "  'writer': None}]\n"
     ]
    }
   ],
   "source": [
    "#function to create dict\n",
    "def createdict():\n",
    "    title_string = soup.find('title').text\n",
    "    title = title_string.split('(')[0].strip()\n",
    "\n",
    "    raw_release_date = get_movie_value(soup, 'Release Date')\n",
    "    release_date = to_date(raw_release_date)\n",
    "\n",
    "    raw_dtg = get_movie_value(soup, 'Domestic Total')\n",
    "    domestic_total_gross = money_to_int(raw_dtg)\n",
    "\n",
    "    dlg = get_dlg(dlg)\n",
    "\n",
    "    raw_total_adj_gross = get_adjusted('DTotalAG')\n",
    "    total_adj_gross = money_to_int(raw_total_adj_gross)\n",
    "\n",
    "    raw_lifetime_adj_gross = get_adjusted('DLifetimeAG')\n",
    "    if raw_lifetime_adj_gross is None:\n",
    "        lifetime_adj_gross = None\n",
    "    else:\n",
    "        lifetime_adj_gross = money_to_int(raw_lifetime_adj_gross)\n",
    "\n",
    "    raw_runtime = get_movie_value(soup, 'Runtime')\n",
    "    runtime =runtime_to_minutes(raw_runtime)\n",
    "\n",
    "    genre_string = soup.find(text=re.compile('Genre:'))\n",
    "    genre=str(genre_string.findNextSibling())\n",
    "    genre=genre.replace('<b>','').replace('</b>','')\n",
    "\n",
    "    rating = get_movie_value(soup, 'MPAA Rating')\n",
    "\n",
    "    budgetstring = get_movie_value(soup, 'Production Budget')\n",
    "    budget = budget_to_int(budgetstring)\n",
    "\n",
    "\n",
    "    series_raw = str(soup.find(text=re.compile('Series:')))\n",
    "    series_raw = series_raw.split(': ')\n",
    "    series = str(series_raw[1])\n",
    "\n",
    "\n",
    "    director = get_the_players(soup, 'Director:')\n",
    "\n",
    "    writer = get_the_players(soup, 'Writer:')\n",
    "\n",
    "    producer = get_the_players(soup,'Producer:')\n",
    "\n",
    "    composer = get_the_players(soup, 'Composer:')\n",
    "\n",
    "\n",
    "    actors = get_the_players(soup, 'Actors:') \n",
    "    actor_list = create_list(actors)\n",
    "\n",
    "    headers = ['domestic total adj gross(2016)', 'domestic lifetime adj gross(2016)', 'budget', 'actors', 'director', 'writer', 'producer', 'composer', 'series', 'movie title', 'domestic total gross', 'domestic lifetime', 'release date', 'runtime (mins)', 'rating', 'genre']\n",
    "\n",
    "    movie_data = []\n",
    "    movie_dict = dict(zip(headers, [total_adj_gross, lifetime_adj_gross, budget, actor_list, director, writer, producer, composer, series, title, domestic_total_gross, dlg, release_date, runtime, rating, str(genre)]))\n",
    "    movie_data.append(movie_dict)\n",
    "\n",
    "    pprint (movie_data)"
   ]
  },
  {
   "cell_type": "code",
   "execution_count": 425,
   "metadata": {
    "collapsed": true
   },
   "outputs": [],
   "source": [
    "phantomjs.close()"
   ]
  },
  {
   "cell_type": "code",
   "execution_count": null,
   "metadata": {
    "collapsed": true
   },
   "outputs": [],
   "source": []
  }
 ],
 "metadata": {
  "kernelspec": {
   "display_name": "Python 3",
   "language": "python",
   "name": "python3"
  },
  "language_info": {
   "codemirror_mode": {
    "name": "ipython",
    "version": 3
   },
   "file_extension": ".py",
   "mimetype": "text/x-python",
   "name": "python",
   "nbconvert_exporter": "python",
   "pygments_lexer": "ipython3",
   "version": "3.5.1"
  }
 },
 "nbformat": 4,
 "nbformat_minor": 0
}
